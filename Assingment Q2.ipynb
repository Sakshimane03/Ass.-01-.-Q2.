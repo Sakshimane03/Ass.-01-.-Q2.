{
 "cells": [
  {
   "cell_type": "markdown",
   "id": "b62a884a",
   "metadata": {},
   "source": [
    "# `Write a Python Program That Accepts A Word From The User  And Reverse It.`"
   ]
  },
  {
   "cell_type": "code",
   "execution_count": 3,
   "id": "c639228d",
   "metadata": {},
   "outputs": [
    {
     "name": "stdout",
     "output_type": "stream",
     "text": [
      "nohtyp"
     ]
    }
   ],
   "source": [
    "a = \"python\"\n",
    "for i in range(len(a)-1,-1,-1):\n",
    "    print(a[i], end = \"\")"
   ]
  },
  {
   "cell_type": "code",
   "execution_count": null,
   "id": "759ab873",
   "metadata": {},
   "outputs": [],
   "source": [
    "x = input()\n",
    "for i in range(len(x)-1,-1,-1):\n",
    "    print(x[i], end= \"\")"
   ]
  },
  {
   "cell_type": "code",
   "execution_count": null,
   "id": "a6c02555",
   "metadata": {},
   "outputs": [],
   "source": []
  }
 ],
 "metadata": {
  "kernelspec": {
   "display_name": "Python 3 (ipykernel)",
   "language": "python",
   "name": "python3"
  },
  "language_info": {
   "codemirror_mode": {
    "name": "ipython",
    "version": 3
   },
   "file_extension": ".py",
   "mimetype": "text/x-python",
   "name": "python",
   "nbconvert_exporter": "python",
   "pygments_lexer": "ipython3",
   "version": "3.10.1"
  }
 },
 "nbformat": 4,
 "nbformat_minor": 5
}
